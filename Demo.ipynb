import pyodbc
import pandas as pd
cnxt=pd.connect('DRIVER={SQL SERVER};SERVER=;DATABASE=enkunz;UDI=enkunz;PWD=Kingbram710825')
df=pd.read_sql('selecr * from 员工档案 ',cnxt)
df
